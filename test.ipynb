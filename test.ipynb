{
 "cells": [
  {
   "cell_type": "code",
   "execution_count": 1,
   "metadata": {},
   "outputs": [],
   "source": [
    "import pandas as pd\n",
    "\n",
    "users = pd.read_sql(\n",
    "    \"\"\"SELECT * FROM public.martynov_features_lesson_22_users \"\"\",\n",
    "    con=\"postgresql://robot-startml-ro:pheiph0hahj1Vaif@\"\n",
    "        \"postgres.lab.karpov.courses:6432/startml\"\n",
    ")\n",
    "\n",
    "posts = pd.read_sql(\n",
    "    \"\"\"SELECT * FROM public.martynov_post_features_lesson_22_posts \"\"\",\n",
    "    con=\"postgresql://robot-startml-ro:pheiph0hahj1Vaif@\"\n",
    "        \"postgres.lab.karpov.courses:6432/startml\"\n",
    ")"
   ]
  },
  {
   "cell_type": "code",
   "execution_count": 4,
   "metadata": {},
   "outputs": [
    {
     "name": "stdout",
     "output_type": "stream",
     "text": [
      "['movie', 'covid', 'sport', 'politics', 'tech']\n"
     ]
    }
   ],
   "source": [
    "from catboost import CatBoostClassifier\n",
    "from datetime import datetime\n",
    "import pandas as pd\n",
    "\n",
    "def prepare_features(user, posts, timestamp: datetime):\n",
    "    user_features_series = user.iloc[0]\n",
    "    posts_with_user_features = posts.assign(**user_features_series)\n",
    "        \n",
    "    # Преобразование timestamp в time_slot\n",
    "    day_of_week = timestamp.weekday()\n",
    "    hour = timestamp.hour\n",
    "    time_slot = f\"{day_of_week}_{hour}\"\n",
    "\n",
    "    # Добавляем time_slot к постам\n",
    "    posts_with_user_features['time_slot'] = time_slot\n",
    "\n",
    "    # Сохраняем post_id перед удалением\n",
    "    post_ids = posts_with_user_features['post_id'].copy()\n",
    "\n",
    "    # Удаляем ненужные столбцы, кроме post_id\n",
    "    posts_with_user_features = posts_with_user_features.drop(['user_id', 'text', 'post_id'], axis=1)\n",
    "    \n",
    "    # Переупорядочиваем столбцы в соответствии с from_file.feature_names_, удаляем post_id для обучения\n",
    "    features_for_prediction = posts_with_user_features.reindex(columns=from_file.feature_names_)\n",
    "    \n",
    "    return features_for_prediction, post_ids\n",
    "\n",
    "# Подготавливаем данные\n",
    "user = users[users['user_id'] == 200]\n",
    "from_file = CatBoostClassifier()\n",
    "from_file.load_model('catboost_model_2')\n",
    "example_datetime = datetime(2021, 3, 14, 15, 30)\n",
    "\n",
    "\n",
    "# Find the topic columns with values greater than 0\n",
    "topic_columns = ['entertainment_target', 'movie_target', 'covid_target', 'sport_target',\n",
    "                    'politics_target', 'business_target', 'tech_target']\n",
    "user_topics = [col for col in topic_columns if user[col].values[0] > 0]\n",
    "\n",
    "# Map the topic column names to the corresponding topic names in the 'posts' table\n",
    "topic_mapping = {\n",
    "    'entertainment_target': 'entertainment',\n",
    "    'movie_target': 'movie',\n",
    "    'covid_target': 'covid',\n",
    "    'sport_target': 'sport',\n",
    "    'politics_target': 'politics',\n",
    "    'business_target': 'business',\n",
    "    'tech_target': 'tech'\n",
    "}\n",
    "user_topic_names = [topic_mapping[topic] for topic in user_topics]\n",
    "\n",
    " # Filter the posts based on the user's preferred topics if they have more than 2 liked topics\n",
    "if len(user_topic_names) > 1:\n",
    "    filtered_posts = posts[posts['topic'].isin(user_topic_names)]\n",
    "else:\n",
    "    filtered_posts = posts\n",
    "        \n",
    "X, post_ids = prepare_features(user, filtered_posts, example_datetime)\n",
    "\n",
    "# Получаем предсказания\n",
    "probabilities = from_file.predict_proba(X)[:, 1]\n",
    "\n",
    "# Создаем DataFrame с post_id и вероятностями\n",
    "predictions_df = pd.DataFrame({'post_id': post_ids, 'probability': probabilities})\n",
    "top5 = predictions_df.sort_values('probability', ascending=False).head(5)\n",
    "\n",
    "# Объединяем top5 с posts по post_id\n",
    "merged_top5 = pd.merge(top5, posts[['post_id', 'topic', 'text']], on='post_id')\n",
    "\n",
    "# Возвращаем DataFrame\n"
   ]
  }
 ],
 "metadata": {
  "kernelspec": {
   "display_name": "base",
   "language": "python",
   "name": "python3"
  },
  "language_info": {
   "codemirror_mode": {
    "name": "ipython",
    "version": 3
   },
   "file_extension": ".py",
   "mimetype": "text/x-python",
   "name": "python",
   "nbconvert_exporter": "python",
   "pygments_lexer": "ipython3",
   "version": "3.11.4"
  }
 },
 "nbformat": 4,
 "nbformat_minor": 2
}
